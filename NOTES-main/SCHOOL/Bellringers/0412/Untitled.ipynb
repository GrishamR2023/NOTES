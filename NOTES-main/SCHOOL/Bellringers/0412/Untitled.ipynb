{
 "cells": [
  {
   "cell_type": "code",
   "execution_count": 2,
   "id": "b169b10b",
   "metadata": {},
   "outputs": [],
   "source": [
    "numb = 0\n",
    "numbList = []"
   ]
  },
  {
   "cell_type": "markdown",
   "id": "ff00c704",
   "metadata": {},
   "source": [
    "Establishing Variables"
   ]
  },
  {
   "cell_type": "code",
   "execution_count": 3,
   "id": "573bb29a",
   "metadata": {
    "scrolled": true
   },
   "outputs": [
    {
     "name": "stdout",
     "output_type": "stream",
     "text": [
      "[]\n",
      "['00', '01', '02', '03', '04', '05', '06', '07', '08', '09']\n",
      "['10', '11', '12', '13', '14', '15', '16', '17', '18', '19']\n",
      "['20', '21', '22', '23', '24', '25', '26', '27', '28', '29']\n",
      "['30', '31', '32', '33', '34', '35', '36', '37', '38', '39']\n",
      "['40', '41', '42', '43', '44', '45', '46', '47', '48', '49']\n",
      "['50', '51', '52', '53', '54', '55', '56', '57', '58', '59']\n",
      "['60', '61', '62', '63', '64', '65', '66', '67', '68', '69']\n",
      "['70', '71', '72', '73', '74', '75', '76', '77', '78', '79']\n",
      "['80', '81', '82', '83', '84', '85', '86', '87', '88', '89']\n",
      "['90', '91', '92', '93', '94', '95', '96', '97', '98', '99']\n"
     ]
    }
   ],
   "source": [
    "for i in range(11):\n",
    "    print(numbList)\n",
    "    numbList = []\n",
    "    for j in range(10):\n",
    "        i = str(i)\n",
    "        j = str(j)\n",
    "        numbList.append(i+j)"
   ]
  },
  {
   "cell_type": "markdown",
   "id": "c74c6a00",
   "metadata": {},
   "source": [
    "Print out grid"
   ]
  }
 ],
 "metadata": {
  "kernelspec": {
   "display_name": "Python 3 (ipykernel)",
   "language": "python",
   "name": "python3"
  },
  "language_info": {
   "codemirror_mode": {
    "name": "ipython",
    "version": 3
   },
   "file_extension": ".py",
   "mimetype": "text/x-python",
   "name": "python",
   "nbconvert_exporter": "python",
   "pygments_lexer": "ipython3",
   "version": "3.9.7"
  }
 },
 "nbformat": 4,
 "nbformat_minor": 5
}
